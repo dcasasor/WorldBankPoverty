{
 "cells": [
  {
   "cell_type": "markdown",
   "metadata": {
    "toc": true
   },
   "source": [
    "<h1>Table of Contents<span class=\"tocSkip\"></span></h1>\n",
    "<div class=\"toc\" style=\"margin-top: 1em;\"><ul class=\"toc-item\"><li><span><a href=\"#Business-Understanding\" data-toc-modified-id=\"Business-Understanding-1\"><span class=\"toc-item-num\">1&nbsp;&nbsp;</span>Business Understanding</a></span><ul class=\"toc-item\"><li><span><a href=\"#Determine-Business-Objectives\" data-toc-modified-id=\"Determine-Business-Objectives-1.1\"><span class=\"toc-item-num\">1.1&nbsp;&nbsp;</span>Determine Business Objectives</a></span></li><li><span><a href=\"#Assess-Situation\" data-toc-modified-id=\"Assess-Situation-1.2\"><span class=\"toc-item-num\">1.2&nbsp;&nbsp;</span>Assess Situation</a></span></li><li><span><a href=\"#Determine-Data-Mining-Goals\" data-toc-modified-id=\"Determine-Data-Mining-Goals-1.3\"><span class=\"toc-item-num\">1.3&nbsp;&nbsp;</span>Determine Data Mining Goals</a></span></li><li><span><a href=\"#Produce-Project-Plan\" data-toc-modified-id=\"Produce-Project-Plan-1.4\"><span class=\"toc-item-num\">1.4&nbsp;&nbsp;</span>Produce Project Plan</a></span></li></ul></li></ul></div>"
   ]
  },
  {
   "cell_type": "markdown",
   "metadata": {},
   "source": [
    "# Business Understanding\n",
    "## Determine Business Objectives"
   ]
  },
  {
   "cell_type": "markdown",
   "metadata": {},
   "source": [
    "## Assess Situation\n"
   ]
  },
  {
   "cell_type": "markdown",
   "metadata": {},
   "source": [
    "## Determine Data Mining Goals"
   ]
  },
  {
   "cell_type": "markdown",
   "metadata": {},
   "source": [
    "## Produce Project Plan"
   ]
  }
 ],
 "metadata": {
  "kernelspec": {
   "display_name": "Python 3",
   "language": "python",
   "name": "python3"
  },
  "language_info": {
   "codemirror_mode": {
    "name": "ipython",
    "version": 3
   },
   "file_extension": ".py",
   "mimetype": "text/x-python",
   "name": "python",
   "nbconvert_exporter": "python",
   "pygments_lexer": "ipython3",
   "version": "3.6.4"
  },
  "toc": {
   "nav_menu": {},
   "number_sections": true,
   "sideBar": true,
   "skip_h1_title": false,
   "toc_cell": true,
   "toc_position": {},
   "toc_section_display": "block",
   "toc_window_display": false
  }
 },
 "nbformat": 4,
 "nbformat_minor": 2
}
