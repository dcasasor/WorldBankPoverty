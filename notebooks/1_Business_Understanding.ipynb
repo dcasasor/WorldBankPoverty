{
 "cells": [
  {
   "cell_type": "markdown",
   "metadata": {
    "toc": true
   },
   "source": [
    "<h1>Table of Contents<span class=\"tocSkip\"></span></h1>\n",
    "<div class=\"toc\" style=\"margin-top: 1em;\"><ul class=\"toc-item\"><li><span><a href=\"#Business-Understanding\" data-toc-modified-id=\"Business-Understanding-1\"><span class=\"toc-item-num\">1&nbsp;&nbsp;</span>Business Understanding</a></span><ul class=\"toc-item\"><li><span><a href=\"#Determine-Business-Objectives\" data-toc-modified-id=\"Determine-Business-Objectives-1.1\"><span class=\"toc-item-num\">1.1&nbsp;&nbsp;</span>Determine Business Objectives</a></span><ul class=\"toc-item\"><li><span><a href=\"#Background\" data-toc-modified-id=\"Background-1.1.1\"><span class=\"toc-item-num\">1.1.1&nbsp;&nbsp;</span>Background</a></span></li><li><span><a href=\"#Business-Objectives\" data-toc-modified-id=\"Business-Objectives-1.1.2\"><span class=\"toc-item-num\">1.1.2&nbsp;&nbsp;</span>Business Objectives</a></span></li></ul></li><li><span><a href=\"#Determine-Data-Mining-Goals\" data-toc-modified-id=\"Determine-Data-Mining-Goals-1.2\"><span class=\"toc-item-num\">1.2&nbsp;&nbsp;</span>Determine Data Mining Goals</a></span></li><li><span><a href=\"#Produce-Project-Plan\" data-toc-modified-id=\"Produce-Project-Plan-1.3\"><span class=\"toc-item-num\">1.3&nbsp;&nbsp;</span>Produce Project Plan</a></span></li></ul></li></ul></div>"
   ]
  },
  {
   "cell_type": "markdown",
   "metadata": {},
   "source": [
    "# Business Understanding\n",
    "## Determine Business Objectives\n",
    "### Background\n",
    "\n",
    "Predictions should be made at the household level only, but data for each of the three countries is provided at the household and individual level. It may be the case that you can construct additional features for the household using the individual data that are particular useful for predicting at the household level, which is why we provide both. There are six training files in total.\n",
    "\n",
    "    Country  Filename           Survey Level\n",
    "    A\t    A_hhold_train.csv\thousehold\n",
    "    B\t    B_hhold_train.csv\thousehold\n",
    "    C\t    C_hhold_train.csv\thousehold\n",
    "    A\t    A_indiv_train.csv\tindividual\n",
    "    B\t    B_indiv_train.csv\tindividual\n",
    "    C\t    C_indiv_train.csv\tindividual\n",
    "\n",
    "The dataset has been structured so that the id columns match across the individual and house hold datasets. For both datasets, an assessment of whether or not the household is above or below the poverty line is in the poor column. This binary variable is the target variable for the competition.\n",
    "\n",
    "Each column in the dataset corresponds with a survey question. Each question is either multiple choice, in which case each choice has been encoded as random string, or it is a numeric value. Many of the multiple choice questions are about consumable goods--for example does your household have items such as Bar soap, Cooking oil, Matches, and Salt. Numeric questions often ask things like How many working cell phones in total does your household own? or How many separate rooms do the members of your household occupy?\n",
    "\n",
    "For example, a few rows from A_hhold_train.csv look like\n",
    "\n",
    "    wBXbHZmp\tSlDKnCuu\tAlDbXTlZ\t...\tpoor\n",
    "    id\t\t\t\t\n",
    "    80389\tJhtDR\tGUusz\taQeIm\t...\tTrue\n",
    "    9370\tJhtDR\tGUusz\tcecIq\t...\tTrue\n",
    "    39883\tJhtDR\tGUusz\taQeIm\t...\tFalse\n",
    "    18327\tJhtDR\talLXR\tcecIq\t...\tTrue\n",
    "    88416\tJhtDR\tGUusz\tcecIq\t...\tTrue\n",
    "\n",
    "And the corresponding data in A_indiv_train.csv is\n",
    "\n",
    "    \n",
    "    id\tiid\tHeUgMnzF CaukPfUC xqUooaNJ\t...\tpoor\t\t\n",
    "    80389   1\tXJsPz\tmOlYV\tdSJoN\t...\tTrue\n",
    "            2\tXJsPz\tmOlYV\tJTCKs\t...\tTrue\n",
    "            3\tTRFeI\tmOlYV\tJTCKs\t...\tTrue\n",
    "            4\tXJsPz\tyAyAe\tJTCKs\t...\tTrue\n",
    "    9370\t1\tXJsPz\tmOlYV\tJTCKs\t...\tTrue\n",
    "\n",
    "Note that questions across the two survey levels are different, so it may be the case that generating new household level features by aggregating the individual features in different ways will create better predictors.\n",
    "\n",
    "### Business Objectives\n",
    "- The models should predict whether or not a given household for a given country is poor or not.\n"
   ]
  },
  {
   "cell_type": "markdown",
   "metadata": {},
   "source": [
    "## Determine Data Mining Goals"
   ]
  },
  {
   "cell_type": "markdown",
   "metadata": {},
   "source": [
    "## Produce Project Plan"
   ]
  }
 ],
 "metadata": {
  "kernelspec": {
   "display_name": "Python 3",
   "language": "python",
   "name": "python3"
  },
  "language_info": {
   "codemirror_mode": {
    "name": "ipython",
    "version": 3
   },
   "file_extension": ".py",
   "mimetype": "text/x-python",
   "name": "python",
   "nbconvert_exporter": "python",
   "pygments_lexer": "ipython3",
   "version": "3.6.4"
  },
  "toc": {
   "nav_menu": {},
   "number_sections": true,
   "sideBar": true,
   "skip_h1_title": false,
   "toc_cell": true,
   "toc_position": {},
   "toc_section_display": "block",
   "toc_window_display": false
  }
 },
 "nbformat": 4,
 "nbformat_minor": 2
}
