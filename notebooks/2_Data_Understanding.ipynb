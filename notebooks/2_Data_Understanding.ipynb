{
 "cells": [
  {
   "cell_type": "markdown",
   "metadata": {
    "toc": true
   },
   "source": [
    "<h1>Table of Contents<span class=\"tocSkip\"></span></h1>\n",
    "<div class=\"toc\" style=\"margin-top: 1em;\"><ul class=\"toc-item\"><li><span><a href=\"#2.-Data-Understanding\" data-toc-modified-id=\"2.-Data-Understanding-1\">2. Data Understanding</a></span><ul class=\"toc-item\"><li><span><a href=\"#Collect-initial-data\" data-toc-modified-id=\"Collect-initial-data-1.1\">Collect initial data</a></span></li><li><span><a href=\"#Describe-Data\" data-toc-modified-id=\"Describe-Data-1.2\">Describe Data</a></span></li></ul></li></ul></div>"
   ]
  },
  {
   "cell_type": "markdown",
   "metadata": {},
   "source": [
    " # 2. Data Understanding"
   ]
  },
  {
   "cell_type": "markdown",
   "metadata": {},
   "source": [
    "## Collect initial data\n",
    "- data/raw/Pover-T_Tests_Predicting_Poverty_-_Country_A_Household_Test.csv\n",
    "- data/raw/Pover-T_Tests_Predicting_Poverty_-_Country_A_Household_Train.csv\n",
    "- data/raw/Pover-T_Tests_Predicting_Poverty_-_Country_A_Individual_Test.csv\n",
    "- data/raw/Pover-T_Tests_Predicting_Poverty_-_Country_A_Individual_Train.csv\n",
    "- data/raw/Pover-T_Tests_Predicting_Poverty_-_Country_B_Household_Test.csv\n",
    "- data/raw/Pover-T_Tests_Predicting_Poverty_-_Country_B_Household_Train.csv\n",
    "- data/raw/Pover-T_Tests_Predicting_Poverty_-_Country_B_Individual_Test.csv\n",
    "- data/raw/Pover-T_Tests_Predicting_Poverty_-_Country_B_Individual_Train.csv\n",
    "- data/raw/Pover-T_Tests_Predicting_Poverty_-_Country_C_Household_Test.csv\n",
    "- data/raw/Pover-T_Tests_Predicting_Poverty_-_Country_C_Household_Train.csv\n",
    "- data/raw/Pover-T_Tests_Predicting_Poverty_-_Country_C_Individual_Test.csv\n",
    "- data/raw/Pover-T_Tests_Predicting_Poverty_-_Country_C_Individual_Train.csv"
   ]
  },
  {
   "cell_type": "markdown",
   "metadata": {},
   "source": [
    "## Describe Data"
   ]
  },
  {
   "cell_type": "code",
   "execution_count": 1,
   "metadata": {},
   "outputs": [],
   "source": [
    "import pandas as pd"
   ]
  },
  {
   "cell_type": "code",
   "execution_count": 7,
   "metadata": {},
   "outputs": [],
   "source": [
    "hhtrainA=pd.read_csv('../data/raw/Pover-T_Tests_Predicting_Poverty_-_Country_A_Household_Train.csv')\n",
    "hhtrainB=pd.read_csv('../data/raw/Pover-T_Tests_Predicting_Poverty_-_Country_B_Household_Train.csv')\n",
    "hhtrainC=pd.read_csv('../data/raw/Pover-T_Tests_Predicting_Poverty_-_Country_C_Household_Train.csv')\n"
   ]
  },
  {
   "cell_type": "code",
   "execution_count": 8,
   "metadata": {},
   "outputs": [
    {
     "data": {
      "text/plain": [
       "((8203, 346), (3255, 443), (6469, 165))"
      ]
     },
     "execution_count": 8,
     "metadata": {},
     "output_type": "execute_result"
    }
   ],
   "source": [
    "hhtrainA.shape, hhtrainB.shape, hhtrainC.shape"
   ]
  },
  {
   "cell_type": "code",
   "execution_count": 10,
   "metadata": {},
   "outputs": [],
   "source": [
    "hitrainA=pd.read_csv('../data/raw/Pover-T_Tests_Predicting_Poverty_-_Country_A_Individual_Train.csv')\n",
    "hitrainB=pd.read_csv('../data/raw/Pover-T_Tests_Predicting_Poverty_-_Country_B_Individual_Train.csv')\n",
    "hitrainC=pd.read_csv('../data/raw/Pover-T_Tests_Predicting_Poverty_-_Country_C_Individual_Train.csv')"
   ]
  },
  {
   "cell_type": "code",
   "execution_count": 11,
   "metadata": {},
   "outputs": [
    {
     "data": {
      "text/plain": [
       "((37560, 44), (20252, 227), (29913, 44))"
      ]
     },
     "execution_count": 11,
     "metadata": {},
     "output_type": "execute_result"
    }
   ],
   "source": [
    "hitrainA.shape, hitrainB.shape, hitrainC.shape"
   ]
  },
  {
   "cell_type": "code",
   "execution_count": 13,
   "metadata": {},
   "outputs": [
    {
     "data": {
      "text/plain": [
       "Index(['id', 'poor', 'country'], dtype='object')"
      ]
     },
     "execution_count": 13,
     "metadata": {},
     "output_type": "execute_result"
    }
   ],
   "source": [
    "hhtrainA.columns.intersection(hhtrainB.columns)"
   ]
  },
  {
   "cell_type": "code",
   "execution_count": 14,
   "metadata": {},
   "outputs": [
    {
     "data": {
      "text/plain": [
       "Index(['id', 'poor', 'country'], dtype='object')"
      ]
     },
     "execution_count": 14,
     "metadata": {},
     "output_type": "execute_result"
    }
   ],
   "source": [
    "hhtrainB.columns.intersection(hhtrainC.columns)"
   ]
  },
  {
   "cell_type": "code",
   "execution_count": 15,
   "metadata": {},
   "outputs": [
    {
     "data": {
      "text/plain": [
       "Index(['id', 'SlDKnCuu', 'enTUTSQi', 'znHDEHZP', 'poor', 'CtFxPQPT',\n",
       "       'CNkSTLvx', 'hJrMTBVd', 'country'],\n",
       "      dtype='object')"
      ]
     },
     "execution_count": 15,
     "metadata": {},
     "output_type": "execute_result"
    }
   ],
   "source": [
    "hhtrainA.columns.intersection(hhtrainC.columns)"
   ]
  },
  {
   "cell_type": "code",
   "execution_count": 16,
   "metadata": {},
   "outputs": [
    {
     "data": {
      "text/plain": [
       "Index(['id', 'iid', 'poor', 'country'], dtype='object')"
      ]
     },
     "execution_count": 16,
     "metadata": {},
     "output_type": "execute_result"
    }
   ],
   "source": [
    "hitrainA.columns.intersection(hitrainB.columns)"
   ]
  },
  {
   "cell_type": "code",
   "execution_count": 17,
   "metadata": {},
   "outputs": [
    {
     "data": {
      "text/plain": [
       "Index(['id', 'iid', 'NAxEQZVi', 'poor', 'country'], dtype='object')"
      ]
     },
     "execution_count": 17,
     "metadata": {},
     "output_type": "execute_result"
    }
   ],
   "source": [
    "hitrainA.columns.intersection(hitrainC.columns)"
   ]
  },
  {
   "cell_type": "code",
   "execution_count": 18,
   "metadata": {},
   "outputs": [
    {
     "data": {
      "text/plain": [
       "Index(['id', 'iid', 'poor', 'country'], dtype='object')"
      ]
     },
     "execution_count": 18,
     "metadata": {},
     "output_type": "execute_result"
    }
   ],
   "source": [
    "hitrainB.columns.intersection(hitrainC.columns)"
   ]
  }
 ],
 "metadata": {
  "kernelspec": {
   "display_name": "Python 3",
   "language": "python",
   "name": "python3"
  },
  "language_info": {
   "codemirror_mode": {
    "name": "ipython",
    "version": 3
   },
   "file_extension": ".py",
   "mimetype": "text/x-python",
   "name": "python",
   "nbconvert_exporter": "python",
   "pygments_lexer": "ipython3",
   "version": "3.6.4"
  },
  "toc": {
   "nav_menu": {},
   "number_sections": false,
   "sideBar": true,
   "skip_h1_title": false,
   "toc_cell": true,
   "toc_position": {},
   "toc_section_display": "block",
   "toc_window_display": true
  }
 },
 "nbformat": 4,
 "nbformat_minor": 2
}
