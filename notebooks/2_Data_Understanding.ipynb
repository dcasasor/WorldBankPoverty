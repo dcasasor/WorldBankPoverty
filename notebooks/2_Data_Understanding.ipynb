{
 "cells": [
  {
   "cell_type": "markdown",
   "metadata": {
    "toc": true
   },
   "source": [
    "<h1>Table of Contents<span class=\"tocSkip\"></span></h1>\n",
    "<div class=\"toc\" style=\"margin-top: 1em;\"><ul class=\"toc-item\"><li><span><a href=\"#2.-Data-Understanding\" data-toc-modified-id=\"2.-Data-Understanding-1\">2. Data Understanding</a></span><ul class=\"toc-item\"><li><span><a href=\"#Collect-initial-data\" data-toc-modified-id=\"Collect-initial-data-1.1\">Collect initial data</a></span></li><li><span><a href=\"#Describe-Data\" data-toc-modified-id=\"Describe-Data-1.2\">Describe Data</a></span></li></ul></li><li><span><a href=\"#Consolidando-en-una-sola-tabla-por-país\" data-toc-modified-id=\"Consolidando-en-una-sola-tabla-por-país-2\">Consolidando en una sola tabla por país</a></span></li><li><span><a href=\"#Codificando-las-variables-categóricas\" data-toc-modified-id=\"Codificando-las-variables-categóricas-3\">Codificando las variables categóricas</a></span></li></ul></div>"
   ]
  },
  {
   "cell_type": "markdown",
   "metadata": {},
   "source": [
    " # 2. Data Understanding"
   ]
  },
  {
   "cell_type": "markdown",
   "metadata": {},
   "source": [
    "## Collect initial data\n",
    "- data/raw/Pover-T_Tests_Predicting_Poverty_-_Country_A_Household_Test.csv\n",
    "- data/raw/Pover-T_Tests_Predicting_Poverty_-_Country_A_Household_Train.csv\n",
    "- data/raw/Pover-T_Tests_Predicting_Poverty_-_Country_A_Individual_Test.csv\n",
    "- data/raw/Pover-T_Tests_Predicting_Poverty_-_Country_A_Individual_Train.csv\n",
    "- data/raw/Pover-T_Tests_Predicting_Poverty_-_Country_B_Household_Test.csv\n",
    "- data/raw/Pover-T_Tests_Predicting_Poverty_-_Country_B_Household_Train.csv\n",
    "- data/raw/Pover-T_Tests_Predicting_Poverty_-_Country_B_Individual_Test.csv\n",
    "- data/raw/Pover-T_Tests_Predicting_Poverty_-_Country_B_Individual_Train.csv\n",
    "- data/raw/Pover-T_Tests_Predicting_Poverty_-_Country_C_Household_Test.csv\n",
    "- data/raw/Pover-T_Tests_Predicting_Poverty_-_Country_C_Household_Train.csv\n",
    "- data/raw/Pover-T_Tests_Predicting_Poverty_-_Country_C_Individual_Test.csv\n",
    "- data/raw/Pover-T_Tests_Predicting_Poverty_-_Country_C_Individual_Train.csv"
   ]
  },
  {
   "cell_type": "markdown",
   "metadata": {},
   "source": [
    "## Describe Data"
   ]
  },
  {
   "cell_type": "code",
   "execution_count": 2,
   "metadata": {
    "ExecuteTime": {
     "end_time": "2018-01-20T17:09:41.909683Z",
     "start_time": "2018-01-20T17:09:40.691700Z"
    }
   },
   "outputs": [],
   "source": [
    "import pandas as pd\n",
    "from sklearn.preprocessing import LabelBinarizer"
   ]
  },
  {
   "cell_type": "code",
   "execution_count": 3,
   "metadata": {
    "ExecuteTime": {
     "end_time": "2018-01-20T17:09:43.077554Z",
     "start_time": "2018-01-20T17:09:42.301843Z"
    }
   },
   "outputs": [],
   "source": [
    "hhtrainA=pd.read_csv('../data/raw/Pover-T_Tests_Predicting_Poverty_-_Country_A_Household_Train.csv')\n",
    "hhtrainB=pd.read_csv('../data/raw/Pover-T_Tests_Predicting_Poverty_-_Country_B_Household_Train.csv')\n",
    "hhtrainC=pd.read_csv('../data/raw/Pover-T_Tests_Predicting_Poverty_-_Country_C_Household_Train.csv')\n"
   ]
  },
  {
   "cell_type": "code",
   "execution_count": 4,
   "metadata": {
    "ExecuteTime": {
     "end_time": "2018-01-20T17:09:43.472491Z",
     "start_time": "2018-01-20T17:09:43.461996Z"
    }
   },
   "outputs": [
    {
     "data": {
      "text/plain": [
       "((8203, 346), (3255, 443), (6469, 165))"
      ]
     },
     "execution_count": 4,
     "metadata": {},
     "output_type": "execute_result"
    }
   ],
   "source": [
    "hhtrainA.shape, hhtrainB.shape, hhtrainC.shape"
   ]
  },
  {
   "cell_type": "code",
   "execution_count": 5,
   "metadata": {
    "ExecuteTime": {
     "end_time": "2018-01-20T17:09:45.069108Z",
     "start_time": "2018-01-20T17:09:44.120553Z"
    }
   },
   "outputs": [],
   "source": [
    "hitrainA=pd.read_csv('../data/raw/Pover-T_Tests_Predicting_Poverty_-_Country_A_Individual_Train.csv')\n",
    "hitrainB=pd.read_csv('../data/raw/Pover-T_Tests_Predicting_Poverty_-_Country_B_Individual_Train.csv')\n",
    "hitrainC=pd.read_csv('../data/raw/Pover-T_Tests_Predicting_Poverty_-_Country_C_Individual_Train.csv')"
   ]
  },
  {
   "cell_type": "code",
   "execution_count": 6,
   "metadata": {
    "ExecuteTime": {
     "end_time": "2018-01-20T17:09:45.459383Z",
     "start_time": "2018-01-20T17:09:45.453527Z"
    }
   },
   "outputs": [
    {
     "data": {
      "text/plain": [
       "((37560, 44), (20252, 227), (29913, 44))"
      ]
     },
     "execution_count": 6,
     "metadata": {},
     "output_type": "execute_result"
    }
   ],
   "source": [
    "hitrainA.shape, hitrainB.shape, hitrainC.shape"
   ]
  },
  {
   "cell_type": "code",
   "execution_count": 7,
   "metadata": {
    "ExecuteTime": {
     "end_time": "2018-01-20T17:09:46.284030Z",
     "start_time": "2018-01-20T17:09:46.275840Z"
    }
   },
   "outputs": [
    {
     "data": {
      "text/plain": [
       "Index(['id', 'poor', 'country'], dtype='object')"
      ]
     },
     "execution_count": 7,
     "metadata": {},
     "output_type": "execute_result"
    }
   ],
   "source": [
    "hhtrainA.columns.intersection(hhtrainB.columns)"
   ]
  },
  {
   "cell_type": "code",
   "execution_count": 8,
   "metadata": {
    "ExecuteTime": {
     "end_time": "2018-01-20T17:09:46.674579Z",
     "start_time": "2018-01-20T17:09:46.670380Z"
    }
   },
   "outputs": [
    {
     "data": {
      "text/plain": [
       "Index(['id', 'poor', 'country'], dtype='object')"
      ]
     },
     "execution_count": 8,
     "metadata": {},
     "output_type": "execute_result"
    }
   ],
   "source": [
    "hhtrainB.columns.intersection(hhtrainC.columns)"
   ]
  },
  {
   "cell_type": "code",
   "execution_count": 9,
   "metadata": {
    "ExecuteTime": {
     "end_time": "2018-01-20T17:09:47.280064Z",
     "start_time": "2018-01-20T17:09:47.273234Z"
    }
   },
   "outputs": [
    {
     "data": {
      "text/plain": [
       "Index(['id', 'SlDKnCuu', 'enTUTSQi', 'znHDEHZP', 'poor', 'CtFxPQPT',\n",
       "       'CNkSTLvx', 'hJrMTBVd', 'country'],\n",
       "      dtype='object')"
      ]
     },
     "execution_count": 9,
     "metadata": {},
     "output_type": "execute_result"
    }
   ],
   "source": [
    "hhtrainA.columns.intersection(hhtrainC.columns)"
   ]
  },
  {
   "cell_type": "code",
   "execution_count": 10,
   "metadata": {
    "ExecuteTime": {
     "end_time": "2018-01-20T17:09:47.593506Z",
     "start_time": "2018-01-20T17:09:47.587894Z"
    }
   },
   "outputs": [
    {
     "data": {
      "text/plain": [
       "Index(['id', 'iid', 'poor', 'country'], dtype='object')"
      ]
     },
     "execution_count": 10,
     "metadata": {},
     "output_type": "execute_result"
    }
   ],
   "source": [
    "hitrainA.columns.intersection(hitrainB.columns)"
   ]
  },
  {
   "cell_type": "code",
   "execution_count": 11,
   "metadata": {
    "ExecuteTime": {
     "end_time": "2018-01-20T17:09:47.927334Z",
     "start_time": "2018-01-20T17:09:47.922199Z"
    }
   },
   "outputs": [
    {
     "data": {
      "text/plain": [
       "Index(['id', 'iid', 'NAxEQZVi', 'poor', 'country'], dtype='object')"
      ]
     },
     "execution_count": 11,
     "metadata": {},
     "output_type": "execute_result"
    }
   ],
   "source": [
    "hitrainA.columns.intersection(hitrainC.columns)"
   ]
  },
  {
   "cell_type": "code",
   "execution_count": 12,
   "metadata": {
    "ExecuteTime": {
     "end_time": "2018-01-20T17:09:48.216411Z",
     "start_time": "2018-01-20T17:09:48.207710Z"
    }
   },
   "outputs": [
    {
     "data": {
      "text/plain": [
       "Index(['id', 'iid', 'poor', 'country'], dtype='object')"
      ]
     },
     "execution_count": 12,
     "metadata": {},
     "output_type": "execute_result"
    }
   ],
   "source": [
    "hitrainB.columns.intersection(hitrainC.columns)"
   ]
  }
 ],
 "metadata": {
  "kernelspec": {
   "display_name": "Python 3",
   "language": "python",
   "name": "python3"
  },
  "language_info": {
   "codemirror_mode": {
    "name": "ipython",
    "version": 3
   },
   "file_extension": ".py",
   "mimetype": "text/x-python",
   "name": "python",
   "nbconvert_exporter": "python",
   "pygments_lexer": "ipython3",
   "version": "3.6.4"
  },
  "toc": {
   "nav_menu": {},
   "number_sections": false,
   "sideBar": true,
   "skip_h1_title": false,
   "toc_cell": true,
   "toc_position": {},
   "toc_section_display": "block",
   "toc_window_display": false
  }
 },
 "nbformat": 4,
 "nbformat_minor": 2
}
